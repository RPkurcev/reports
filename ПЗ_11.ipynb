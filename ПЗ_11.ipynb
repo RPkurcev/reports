{
  "nbformat": 4,
  "nbformat_minor": 0,
  "metadata": {
    "colab": {
      "name": "Untitled0.ipynb",
      "provenance": [],
      "authorship_tag": "ABX9TyNDGI7foGxkQdCscwMtDKDE",
      "include_colab_link": true
    },
    "kernelspec": {
      "name": "python3",
      "display_name": "Python 3"
    },
    "language_info": {
      "name": "python"
    }
  },
  "cells": [
    {
      "cell_type": "markdown",
      "metadata": {
        "id": "view-in-github",
        "colab_type": "text"
      },
      "source": [
        "<a href=\"https://colab.research.google.com/github/RPkurcev/reports/blob/main/%D0%9F%D0%97_11.ipynb\" target=\"_parent\"><img src=\"https://colab.research.google.com/assets/colab-badge.svg\" alt=\"Open In Colab\"/></a>"
      ]
    },
    {
      "cell_type": "markdown",
      "source": [
        "ПЗ_3 _1\n"
      ],
      "metadata": {
        "id": "oEe_mqanD854"
      }
    },
    {
      "cell_type": "code",
      "execution_count": null,
      "metadata": {
        "id": "pO9HfiruCL5H"
      },
      "outputs": [],
      "source": [
        "# Программа проверяет два числа на одинаковую чётность\n",
        "while True:\n",
        "    a = input(\"Введите первое целое число: \")\n",
        "    b = input(\"Введите второе целое число: \")\n",
        "\n",
        "    while type(a) != int: # Обработка исключений 1-го числа\n",
        "        try:\n",
        "            a = int(a)\n",
        "        except ValueError:\n",
        "            print(\"Не то ввели!\")\n",
        "            a = input(\"Введите первое целое число: \")\n",
        "\n",
        "    while type(b) != int: # Обработка исключений 2-го числа\n",
        "        try:\n",
        "            b = int(b)\n",
        "        except ValueError:\n",
        "            print(\"Не то ввели!\")\n",
        "            b = input(\"Введите второе целое число: \")\n",
        "\n",
        "    if a == 0:\n",
        "        print(\"Не вводите 0.\")\n",
        "        continue\n",
        "    elif b == 0:\n",
        "        print(\"Не вводите 0.\")\n",
        "        continue\n",
        "\n",
        "\n",
        "    if a % 2 == 0 and b % 2 == 0:\n",
        "        print(\"Два числа чётных.\")\n",
        "        break\n",
        "    elif a % 2 == 1 and b % 2 == 1:\n",
        "        print(\"Два числа нечётных.\")\n",
        "        break\n",
        "    else:\n",
        "        print(\"Два числа имеют разную чётность.\")\n",
        "        break"
      ]
    },
    {
      "cell_type": "markdown",
      "source": [
        "ПЗ_4_1"
      ],
      "metadata": {
        "id": "J5oMnhanE_WI"
      }
    },
    {
      "cell_type": "code",
      "source": [
        "# Алгоритм нахождения произведения сомножителей выражения 1.1 * 1.2 * 1.3...\n",
        "while True:\n",
        "    N = input(\"Введите кол-во множителей для выражения 1.1 * 1.2 * 1.3... в виде числа, которое больше 0: \")\n",
        "\n",
        "    while type(N) != int:  # Обработка исключений\n",
        "        try:\n",
        "            N = int(N)\n",
        "        except ValueError:\n",
        "            print(\"Вы не ввели число!\")\n",
        "            N = input(\"Введите кол-во множителей для выражения 1.1 * 1.2 * 1.3... в виде числа, которое больше 0: \")\n",
        "\n",
        "    if N <= 0:\n",
        "        print(\"Введите число, которое больше 0!\")\n",
        "        continue\n",
        "\n",
        "    m = 1.1\n",
        "    k = 0\n",
        "    sum = 1\n",
        "    while k < N:\n",
        "        sum *= m\n",
        "        m += 0.1\n",
        "        k += 1\n",
        "    break\n",
        "print(sum)"
      ],
      "metadata": {
        "id": "xmlTrpHDEuSv"
      },
      "execution_count": null,
      "outputs": []
    },
    {
      "cell_type": "markdown",
      "source": [
        "ПЗ_5_1"
      ],
      "metadata": {
        "id": "kwI0wqE-FIun"
      }
    },
    {
      "cell_type": "code",
      "source": [
        "# Функция печатает сорок любых символов\n",
        "def Fourteen(a):\n",
        "    print(a * 40)\n",
        "    \n",
        "symbol = input(\"Введите любой символ: \")\n",
        "Fourteen(symbol)"
      ],
      "metadata": {
        "id": "FJqdLbVyFP73"
      },
      "execution_count": null,
      "outputs": []
    }
  ]
}